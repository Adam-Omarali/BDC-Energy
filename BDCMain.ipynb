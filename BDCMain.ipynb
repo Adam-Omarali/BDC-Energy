{
 "cells": [
  {
   "cell_type": "code",
   "execution_count": 2,
   "id": "ca3fb554",
   "metadata": {},
   "outputs": [],
   "source": [
    "import os\n",
    "import numpy as np\n",
    "import pandas as pd\n",
    "import math\n",
    "from matplotlib import pyplot"
   ]
  },
  {
   "cell_type": "code",
   "execution_count": 47,
   "id": "455ddc6a",
   "metadata": {},
   "outputs": [
    {
     "name": "stdout",
     "output_type": "stream",
     "text": [
      "['R&D.csv', 'owid-energy-metadata.csv', 'installed-renewable-energy-capacity-world-megawatt.csv', 'world capacity.csv', '.DS_Store', 'electricity balance.csv', 'Untitled.ipynb', 'levelized-cost-of-energy.csv', 'Total GDP OECD.csv', 'annual-change-renewables.csv', 'BDC - Main.csv', 'installed-renewable-energy-capacity-megawatts.csv', 'GHG Energy.csv', '.ipynb_checkpoints', 'GHG FC.csv', 'owid-energy-data.csv', '.idea']\n"
     ]
    }
   ],
   "source": [
    "print(os.listdir())"
   ]
  },
  {
   "cell_type": "code",
   "execution_count": 4,
   "id": "30658e8b",
   "metadata": {},
   "outputs": [
    {
     "data": {
      "text/html": [
       "<div>\n",
       "<style scoped>\n",
       "    .dataframe tbody tr th:only-of-type {\n",
       "        vertical-align: middle;\n",
       "    }\n",
       "\n",
       "    .dataframe tbody tr th {\n",
       "        vertical-align: top;\n",
       "    }\n",
       "\n",
       "    .dataframe thead th {\n",
       "        text-align: right;\n",
       "    }\n",
       "</style>\n",
       "<table border=\"1\" class=\"dataframe\">\n",
       "  <thead>\n",
       "    <tr style=\"text-align: right;\">\n",
       "      <th></th>\n",
       "      <th>Year</th>\n",
       "      <th>1971</th>\n",
       "      <th>1972</th>\n",
       "      <th>1973</th>\n",
       "      <th>1974</th>\n",
       "      <th>1975</th>\n",
       "      <th>1976</th>\n",
       "      <th>1977</th>\n",
       "      <th>1978</th>\n",
       "      <th>1979</th>\n",
       "      <th>...</th>\n",
       "      <th>2010</th>\n",
       "      <th>2011</th>\n",
       "      <th>2012</th>\n",
       "      <th>2013</th>\n",
       "      <th>2014</th>\n",
       "      <th>2015</th>\n",
       "      <th>2016</th>\n",
       "      <th>2017</th>\n",
       "      <th>2018</th>\n",
       "      <th>2019</th>\n",
       "    </tr>\n",
       "  </thead>\n",
       "  <tbody>\n",
       "    <tr>\n",
       "      <th>0</th>\n",
       "      <td>Net change of Clean energy compared to previou...</td>\n",
       "      <td>151.676</td>\n",
       "      <td>165.454</td>\n",
       "      <td>57.186</td>\n",
       "      <td>361.471</td>\n",
       "      <td>50.415</td>\n",
       "      <td>-4.938</td>\n",
       "      <td>140.663</td>\n",
       "      <td>347.567</td>\n",
       "      <td>233.351</td>\n",
       "      <td>...</td>\n",
       "      <td>831.009</td>\n",
       "      <td>509.233</td>\n",
       "      <td>740.099</td>\n",
       "      <td>851.763</td>\n",
       "      <td>608.558</td>\n",
       "      <td>487.307</td>\n",
       "      <td>813.462</td>\n",
       "      <td>900.567</td>\n",
       "      <td>977.682</td>\n",
       "      <td>962.745</td>\n",
       "    </tr>\n",
       "    <tr>\n",
       "      <th>1</th>\n",
       "      <td>Green House Gas Emission by Gallons CO2</td>\n",
       "      <td>16121.000</td>\n",
       "      <td>16840.000</td>\n",
       "      <td>17771.000</td>\n",
       "      <td>17722.000</td>\n",
       "      <td>17768.000</td>\n",
       "      <td>18762.000</td>\n",
       "      <td>19357.000</td>\n",
       "      <td>19860.000</td>\n",
       "      <td>20444.000</td>\n",
       "      <td>...</td>\n",
       "      <td>34187.000</td>\n",
       "      <td>35148.000</td>\n",
       "      <td>35557.000</td>\n",
       "      <td>36179.000</td>\n",
       "      <td>36273.000</td>\n",
       "      <td>36167.000</td>\n",
       "      <td>36182.000</td>\n",
       "      <td>36771.000</td>\n",
       "      <td>37597.000</td>\n",
       "      <td>37630.000</td>\n",
       "    </tr>\n",
       "  </tbody>\n",
       "</table>\n",
       "<p>2 rows × 50 columns</p>\n",
       "</div>"
      ],
      "text/plain": [
       "                                                Year       1971       1972  \\\n",
       "0  Net change of Clean energy compared to previou...    151.676    165.454   \n",
       "1            Green House Gas Emission by Gallons CO2  16121.000  16840.000   \n",
       "\n",
       "        1973       1974       1975       1976       1977       1978  \\\n",
       "0     57.186    361.471     50.415     -4.938    140.663    347.567   \n",
       "1  17771.000  17722.000  17768.000  18762.000  19357.000  19860.000   \n",
       "\n",
       "        1979  ...       2010       2011       2012       2013       2014  \\\n",
       "0    233.351  ...    831.009    509.233    740.099    851.763    608.558   \n",
       "1  20444.000  ...  34187.000  35148.000  35557.000  36179.000  36273.000   \n",
       "\n",
       "        2015       2016       2017       2018       2019  \n",
       "0    487.307    813.462    900.567    977.682    962.745  \n",
       "1  36167.000  36182.000  36771.000  37597.000  37630.000  \n",
       "\n",
       "[2 rows x 50 columns]"
      ]
     },
     "execution_count": 4,
     "metadata": {},
     "output_type": "execute_result"
    }
   ],
   "source": [
    "df = pd.read_csv(\"BDC - Main.csv\")\n",
    "df"
   ]
  },
  {
   "cell_type": "code",
   "execution_count": 50,
   "id": "0370bc7f",
   "metadata": {},
   "outputs": [],
   "source": [
    "years = df.iloc[:0, 1:]"
   ]
  },
  {
   "cell_type": "code",
   "execution_count": 51,
   "id": "0baaf03e",
   "metadata": {},
   "outputs": [],
   "source": [
    "yearsList = list(years)"
   ]
  },
  {
   "cell_type": "code",
   "execution_count": 52,
   "id": "0cf5e979",
   "metadata": {},
   "outputs": [],
   "source": [
    "changes = df.iloc[0:1, 1:]"
   ]
  },
  {
   "cell_type": "code",
   "execution_count": 53,
   "id": "7327eb59",
   "metadata": {},
   "outputs": [],
   "source": [
    "changesList = changes.values.tolist()[0]"
   ]
  },
  {
   "cell_type": "code",
   "execution_count": 76,
   "id": "bed83dcb",
   "metadata": {},
   "outputs": [],
   "source": [
    "CEList = []\n",
    "CEList.append(round(changesList[0], 2))\n",
    "for i in range(1, len(changesList)):\n",
    "    CEList.append(round(CEList[i - 1] + changesList[i], 2))"
   ]
  },
  {
   "cell_type": "code",
   "execution_count": 55,
   "id": "0a8f2c41",
   "metadata": {},
   "outputs": [],
   "source": [
    "ghg = df.iloc[1:, 1:]"
   ]
  },
  {
   "cell_type": "code",
   "execution_count": 57,
   "id": "e4d216b2",
   "metadata": {},
   "outputs": [],
   "source": [
    "ghg = ghg.values.tolist()[0]"
   ]
  },
  {
   "cell_type": "code",
   "execution_count": 72,
   "id": "cf961fd0",
   "metadata": {},
   "outputs": [],
   "source": [
    "ghgList = []\n",
    "ghgList.append(round(ghg[0], 2))\n",
    "for i in range(1, len(ghg)):\n",
    "    ghgList.append(round(ghgList[i - 1] + ghg[i], 2))"
   ]
  },
  {
   "cell_type": "code",
   "execution_count": 75,
   "id": "235d9977",
   "metadata": {},
   "outputs": [
    {
     "name": "stdout",
     "output_type": "stream",
     "text": [
      "[16121.0, 32961.0, 50732.0, 68454.0, 86222.0, 104984.0, 124341.0, 144201.0, 164645.0, 184801.0, 204548.0, 224139.0, 243808.0, 264139.0, 284788.0, 305818.0, 327518.0, 349951.0, 372836.0, 396078.0, 419441.0, 442703.0, 466096.0, 489595.0, 513743.0, 538396.0, 563468.0, 588722.0, 614108.0, 640315.0, 666884.0, 693774.0, 721871.0, 751253.0, 781716.0, 813107.0, 845603.0, 878358.0, 910625.0, 944812.0, 979960.0, 1015517.0, 1051696.0, 1087969.0, 1124136.0, 1160318.0, 1197089.0, 1234686.0, 1272316.0]\n"
     ]
    }
   ],
   "source": [
    "print(ghgList)"
   ]
  },
  {
   "cell_type": "code",
   "execution_count": 78,
   "id": "f593f043",
   "metadata": {},
   "outputs": [
    {
     "data": {
      "image/png": "[encoded data removed]",
      "text/plain": [
       "<Figure size 432x288 with 2 Axes>"
      ]
     },
     "metadata": {
      "needs_background": "light"
     },
     "output_type": "display_data"
    }
   ],
   "source": [
    "fig, ax1 = pyplot.subplots()\n",
    "\n",
    "color = 'tab:red'\n",
    "\n",
    "ax1.set_xlabel(\"year\")\n",
    "ax1.set_ylabel(\"GHG emissions (tons CO2)\")\n",
    "ax1.plot(yearsList, ghgList, color=color)\n",
    "ax1.xaxis.set_major_locator(pyplot.MaxNLocator(10))\n",
    "ax1.tick_params(axis='y', labelcolor=color)\n",
    "\n",
    "ax2 = ax1.twinx()  # instantiate a second axes that shares the same x-axis\n",
    "\n",
    "color = 'tab:blue'\n",
    "ax2.set_ylabel('Clean energy in TWh', color=color)  # we already handled the x-label with ax1\n",
    "ax2.plot(yearsList, CEList, color=color)\n",
    "ax2.tick_params(axis='y', labelcolor=color)\n",
    "\n",
    "fig.tight_layout()  # otherwise the right y-label is slightly clipped\n",
    "pyplot.show()"
   ]
  },
  {
   "cell_type": "code",
   "execution_count": null,
   "id": "90d98be8",
   "metadata": {},
   "outputs": [],
   "source": [
    "# since measuring the absolute value might not be accurate, we could also measure the change rate"
   ]
  },
  {
   "cell_type": "code",
   "execution_count": 92,
   "id": "5657a453",
   "metadata": {},
   "outputs": [],
   "source": [
    "pctGHG = []\n",
    "pctCE = []\n",
    "\n",
    "for i in range(len(CEList) - 1):\n",
    "    pctCE.append(round(((CEList[i + 1] - CEList[i]) / CEList[i] * 100), 2))\n",
    "    pctGHG.append(round(((ghgList[i + 1] - ghgList[i]) / ghgList[i] * 100), 2))\n",
    "\n",
    "pctCE.append(pctCE[len(pctCE)- 1])\n",
    "pctGHG.append(pctCE[len(pctCE)- 1])"
   ]
  },
  {
   "cell_type": "code",
   "execution_count": 97,
   "id": "3451b12a",
   "metadata": {},
   "outputs": [
    {
     "data": {
      "image/png": "[encoded data removed]",
      "text/plain": [
       "<Figure size 432x288 with 1 Axes>"
      ]
     },
     "metadata": {
      "needs_background": "light"
     },
     "output_type": "display_data"
    }
   ],
   "source": [
    "fig, ax1 = pyplot.subplots()\n",
    "\n",
    "pyplot.plot(yearsList, pctGHG)\n",
    "pyplot.plot(yearsList, pctCE)\n",
    "pyplot.legend([\"%growth rate of GHG emission\", \"%growth rate of CE consumption\"])\n",
    "\n",
    "ax1.xaxis.set_major_locator(pyplot.MaxNLocator(10))\n",
    "\n",
    "\n",
    "pyplot.show()"
   ]
  },
  {
   "cell_type": "code",
   "execution_count": 98,
   "id": "526dbc22",
   "metadata": {},
   "outputs": [],
   "source": [
    "# linear regression starts here\n",
    "import tensorflow as tf"
   ]
  },
  {
   "cell_type": "code",
   "execution_count": 104,
   "id": "cc1041fa",
   "metadata": {},
   "outputs": [
    {
     "name": "stdout",
     "output_type": "stream",
     "text": [
      "nan\n",
      "nan\n"
     ]
    },
    {
     "data": {
      "image/png": "[encoded data removed]",
      "text/plain": [
       "<Figure size 432x288 with 1 Axes>"
      ]
     },
     "metadata": {
      "needs_background": "light"
     },
     "output_type": "display_data"
    }
   ],
   "source": [
    "learning_rate = 0.01\n",
    "training_epochs = 100\n",
    "\n",
    "x_train = CEList\n",
    "y_train = ghgList\n",
    "\n",
    "\n",
    "weight = tf.Variable(0.)\n",
    "bias = tf.Variable(0.)\n",
    "\n",
    "\n",
    "def line(x):\n",
    "    return weight * x + bias\n",
    "\n",
    "\n",
    "def squared_error(y_pred, y_true):\n",
    "    return tf.reduce_mean(tf.square(y_pred - y_true))\n",
    "\n",
    "\n",
    "for epoch in range(training_epochs):\n",
    "    with tf.GradientTape() as tape:\n",
    "        y_predicted = line(x_train)\n",
    "        loss = squared_error(y_predicted, y_train)\n",
    "        gradients = tape.gradient(loss, [weight, bias])\n",
    "        weight.assign_sub(gradients[0] * learning_rate)\n",
    "        bias.assign_sub(gradients[1] * learning_rate)\n",
    "#         print(f\"Epoch count {epoch}: Loss value: {loss.numpy()}\")\n",
    "\n",
    "        \n",
    "pyplot.scatter(CEList, ghgList)\n",
    "pyplot.plot(x_train, line(x_train), color='tab:red')\n",
    "\n",
    "print(weight.numpy())\n",
    "print(bias.numpy())\n",
    "\n",
    "plt.show()"
   ]
  },
  {
   "cell_type": "code",
   "execution_count": null,
   "id": "5806a6f6",
   "metadata": {},
   "outputs": [],
   "source": []
  }
 ],
 "metadata": {
  "kernelspec": {
   "display_name": "Python 3 (ipykernel)",
   "language": "python",
   "name": "python3"
  },
  "language_info": {
   "codemirror_mode": {
    "name": "ipython",
    "version": 3
   },
   "file_extension": ".py",
   "mimetype": "text/x-python",
   "name": "python",
   "nbconvert_exporter": "python",
   "pygments_lexer": "ipython3",
   "version": "3.7.9"
  }
 },
 "nbformat": 4,
 "nbformat_minor": 5
}
