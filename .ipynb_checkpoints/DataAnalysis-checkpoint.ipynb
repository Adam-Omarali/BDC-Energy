{
 "cells": [
  {
   "cell_type": "code",
   "execution_count": 14,
   "metadata": {},
   "outputs": [],
   "source": [
    "import os\n",
    "import numpy as np\n",
    "import pandas as pd\n",
    "import math\n",
    "from matplotlib import pyplot as plt"
   ]
  },
  {
   "cell_type": "markdown",
   "metadata": {},
   "source": [
    "<h1>ONLY NEED CODE FROM HERE DOWN</h1>"
   ]
  },
  {
   "cell_type": "code",
   "execution_count": 15,
   "metadata": {},
   "outputs": [],
   "source": [
    "append_owid = pd.read_csv(\"final_append.csv\")\n",
    "append_owid = append_owid.drop([\"Unnamed: 0\", \"Unnamed: 0.1\", \"index\", \"iso_code\"], axis=1)"
   ]
  },
  {
   "cell_type": "code",
   "execution_count": 16,
   "metadata": {},
   "outputs": [],
   "source": [
    "final = pd.read_csv(\"final_w_rd.csv\")\n",
    "final = final.set_index(final['Unnamed: 0'])\n",
    "final.index.name=None\n",
    "final = final.drop(['Unnamed: 0', 'Africa_ghg.1'], axis=1)"
   ]
  },
  {
   "cell_type": "code",
   "execution_count": 17,
   "metadata": {},
   "outputs": [
    {
     "data": {
      "text/html": [
       "<div>\n",
       "<style scoped>\n",
       "    .dataframe tbody tr th:only-of-type {\n",
       "        vertical-align: middle;\n",
       "    }\n",
       "\n",
       "    .dataframe tbody tr th {\n",
       "        vertical-align: top;\n",
       "    }\n",
       "\n",
       "    .dataframe thead th {\n",
       "        text-align: right;\n",
       "    }\n",
       "</style>\n",
       "<table border=\"1\" class=\"dataframe\">\n",
       "  <thead>\n",
       "    <tr style=\"text-align: right;\">\n",
       "      <th></th>\n",
       "      <th>coal_prod_change_pct_Africa</th>\n",
       "      <th>coal_prod_change_twh_Africa</th>\n",
       "      <th>gas_prod_change_pct_Africa</th>\n",
       "      <th>gas_prod_change_twh_Africa</th>\n",
       "      <th>oil_prod_change_pct_Africa</th>\n",
       "      <th>oil_prod_change_twh_Africa</th>\n",
       "      <th>energy_cons_change_pct_Africa</th>\n",
       "      <th>energy_cons_change_twh_Africa</th>\n",
       "      <th>biofuel_share_elec_Africa</th>\n",
       "      <th>biofuel_elec_per_capita_Africa</th>\n",
       "      <th>...</th>\n",
       "      <th>Iraq_ghg</th>\n",
       "      <th>Jordan_ghg</th>\n",
       "      <th>Kuwait_ghg</th>\n",
       "      <th>Lebanon_ghg</th>\n",
       "      <th>Oman_ghg</th>\n",
       "      <th>Qatar_ghg</th>\n",
       "      <th>Saudi Arabia_ghg</th>\n",
       "      <th>Syrian Arab Republic _ghg</th>\n",
       "      <th>United Arab Emirates_ghg</th>\n",
       "      <th>Yemen_ghg</th>\n",
       "    </tr>\n",
       "  </thead>\n",
       "  <tbody>\n",
       "    <tr>\n",
       "      <th>2000</th>\n",
       "      <td>-0.087</td>\n",
       "      <td>-1.320</td>\n",
       "      <td>11.037</td>\n",
       "      <td>134.287</td>\n",
       "      <td>7.284</td>\n",
       "      <td>292.915</td>\n",
       "      <td>2.362</td>\n",
       "      <td>73.659</td>\n",
       "      <td>NaN</td>\n",
       "      <td>NaN</td>\n",
       "      <td>...</td>\n",
       "      <td>144.0</td>\n",
       "      <td>15.0</td>\n",
       "      <td>66.0</td>\n",
       "      <td>14.0</td>\n",
       "      <td>36.0</td>\n",
       "      <td>37.0</td>\n",
       "      <td>301.0</td>\n",
       "      <td>80.0</td>\n",
       "      <td>101.0</td>\n",
       "      <td>29.0</td>\n",
       "    </tr>\n",
       "    <tr>\n",
       "      <th>2001</th>\n",
       "      <td>-0.248</td>\n",
       "      <td>-3.761</td>\n",
       "      <td>3.363</td>\n",
       "      <td>45.431</td>\n",
       "      <td>-1.002</td>\n",
       "      <td>-43.243</td>\n",
       "      <td>3.912</td>\n",
       "      <td>124.884</td>\n",
       "      <td>NaN</td>\n",
       "      <td>NaN</td>\n",
       "      <td>...</td>\n",
       "      <td>151.0</td>\n",
       "      <td>15.0</td>\n",
       "      <td>69.0</td>\n",
       "      <td>15.0</td>\n",
       "      <td>40.0</td>\n",
       "      <td>37.0</td>\n",
       "      <td>302.0</td>\n",
       "      <td>79.0</td>\n",
       "      <td>114.0</td>\n",
       "      <td>30.0</td>\n",
       "    </tr>\n",
       "    <tr>\n",
       "      <th>2002</th>\n",
       "      <td>-1.673</td>\n",
       "      <td>-25.333</td>\n",
       "      <td>4.557</td>\n",
       "      <td>63.640</td>\n",
       "      <td>0.679</td>\n",
       "      <td>28.986</td>\n",
       "      <td>1.111</td>\n",
       "      <td>36.850</td>\n",
       "      <td>NaN</td>\n",
       "      <td>NaN</td>\n",
       "      <td>...</td>\n",
       "      <td>136.0</td>\n",
       "      <td>16.0</td>\n",
       "      <td>70.0</td>\n",
       "      <td>15.0</td>\n",
       "      <td>42.0</td>\n",
       "      <td>40.0</td>\n",
       "      <td>319.0</td>\n",
       "      <td>80.0</td>\n",
       "      <td>115.0</td>\n",
       "      <td>30.0</td>\n",
       "    </tr>\n",
       "    <tr>\n",
       "      <th>2003</th>\n",
       "      <td>7.458</td>\n",
       "      <td>111.037</td>\n",
       "      <td>7.425</td>\n",
       "      <td>108.417</td>\n",
       "      <td>8.758</td>\n",
       "      <td>376.609</td>\n",
       "      <td>4.746</td>\n",
       "      <td>159.197</td>\n",
       "      <td>NaN</td>\n",
       "      <td>NaN</td>\n",
       "      <td>...</td>\n",
       "      <td>116.0</td>\n",
       "      <td>16.0</td>\n",
       "      <td>75.0</td>\n",
       "      <td>15.0</td>\n",
       "      <td>43.0</td>\n",
       "      <td>44.0</td>\n",
       "      <td>339.0</td>\n",
       "      <td>79.0</td>\n",
       "      <td>121.0</td>\n",
       "      <td>33.0</td>\n",
       "    </tr>\n",
       "    <tr>\n",
       "      <th>2004</th>\n",
       "      <td>2.181</td>\n",
       "      <td>34.898</td>\n",
       "      <td>4.627</td>\n",
       "      <td>72.579</td>\n",
       "      <td>11.272</td>\n",
       "      <td>527.174</td>\n",
       "      <td>7.156</td>\n",
       "      <td>251.430</td>\n",
       "      <td>NaN</td>\n",
       "      <td>NaN</td>\n",
       "      <td>...</td>\n",
       "      <td>136.0</td>\n",
       "      <td>18.0</td>\n",
       "      <td>80.0</td>\n",
       "      <td>16.0</td>\n",
       "      <td>42.0</td>\n",
       "      <td>47.0</td>\n",
       "      <td>355.0</td>\n",
       "      <td>74.0</td>\n",
       "      <td>128.0</td>\n",
       "      <td>33.0</td>\n",
       "    </tr>\n",
       "    <tr>\n",
       "      <th>2005</th>\n",
       "      <td>0.644</td>\n",
       "      <td>10.535</td>\n",
       "      <td>4.239</td>\n",
       "      <td>69.562</td>\n",
       "      <td>3.687</td>\n",
       "      <td>191.895</td>\n",
       "      <td>0.687</td>\n",
       "      <td>25.884</td>\n",
       "      <td>NaN</td>\n",
       "      <td>NaN</td>\n",
       "      <td>...</td>\n",
       "      <td>130.0</td>\n",
       "      <td>19.0</td>\n",
       "      <td>89.0</td>\n",
       "      <td>15.0</td>\n",
       "      <td>42.0</td>\n",
       "      <td>49.0</td>\n",
       "      <td>375.0</td>\n",
       "      <td>83.0</td>\n",
       "      <td>135.0</td>\n",
       "      <td>35.0</td>\n",
       "    </tr>\n",
       "    <tr>\n",
       "      <th>2006</th>\n",
       "      <td>-0.683</td>\n",
       "      <td>-11.236</td>\n",
       "      <td>8.213</td>\n",
       "      <td>140.492</td>\n",
       "      <td>2.333</td>\n",
       "      <td>125.910</td>\n",
       "      <td>1.776</td>\n",
       "      <td>67.341</td>\n",
       "      <td>NaN</td>\n",
       "      <td>NaN</td>\n",
       "      <td>...</td>\n",
       "      <td>130.0</td>\n",
       "      <td>19.0</td>\n",
       "      <td>92.0</td>\n",
       "      <td>14.0</td>\n",
       "      <td>50.0</td>\n",
       "      <td>55.0</td>\n",
       "      <td>395.0</td>\n",
       "      <td>85.0</td>\n",
       "      <td>140.0</td>\n",
       "      <td>36.0</td>\n",
       "    </tr>\n",
       "    <tr>\n",
       "      <th>2007</th>\n",
       "      <td>-0.040</td>\n",
       "      <td>-0.653</td>\n",
       "      <td>5.729</td>\n",
       "      <td>106.044</td>\n",
       "      <td>2.087</td>\n",
       "      <td>115.243</td>\n",
       "      <td>3.548</td>\n",
       "      <td>136.907</td>\n",
       "      <td>NaN</td>\n",
       "      <td>NaN</td>\n",
       "      <td>...</td>\n",
       "      <td>125.0</td>\n",
       "      <td>20.0</td>\n",
       "      <td>89.0</td>\n",
       "      <td>13.0</td>\n",
       "      <td>53.0</td>\n",
       "      <td>61.0</td>\n",
       "      <td>411.0</td>\n",
       "      <td>87.0</td>\n",
       "      <td>149.0</td>\n",
       "      <td>37.0</td>\n",
       "    </tr>\n",
       "    <tr>\n",
       "      <th>2008</th>\n",
       "      <td>1.607</td>\n",
       "      <td>26.243</td>\n",
       "      <td>4.160</td>\n",
       "      <td>81.409</td>\n",
       "      <td>1.017</td>\n",
       "      <td>57.322</td>\n",
       "      <td>6.366</td>\n",
       "      <td>254.344</td>\n",
       "      <td>NaN</td>\n",
       "      <td>NaN</td>\n",
       "      <td>...</td>\n",
       "      <td>142.0</td>\n",
       "      <td>19.0</td>\n",
       "      <td>95.0</td>\n",
       "      <td>17.0</td>\n",
       "      <td>52.0</td>\n",
       "      <td>65.0</td>\n",
       "      <td>445.0</td>\n",
       "      <td>88.0</td>\n",
       "      <td>172.0</td>\n",
       "      <td>36.0</td>\n",
       "    </tr>\n",
       "    <tr>\n",
       "      <th>2009</th>\n",
       "      <td>-0.845</td>\n",
       "      <td>-14.020</td>\n",
       "      <td>-5.754</td>\n",
       "      <td>-117.299</td>\n",
       "      <td>-3.797</td>\n",
       "      <td>-216.218</td>\n",
       "      <td>1.772</td>\n",
       "      <td>75.293</td>\n",
       "      <td>NaN</td>\n",
       "      <td>NaN</td>\n",
       "      <td>...</td>\n",
       "      <td>152.0</td>\n",
       "      <td>20.0</td>\n",
       "      <td>95.0</td>\n",
       "      <td>20.0</td>\n",
       "      <td>55.0</td>\n",
       "      <td>67.0</td>\n",
       "      <td>454.0</td>\n",
       "      <td>85.0</td>\n",
       "      <td>172.0</td>\n",
       "      <td>39.0</td>\n",
       "    </tr>\n",
       "    <tr>\n",
       "      <th>2010</th>\n",
       "      <td>3.721</td>\n",
       "      <td>61.244</td>\n",
       "      <td>5.308</td>\n",
       "      <td>101.976</td>\n",
       "      <td>3.229</td>\n",
       "      <td>176.892</td>\n",
       "      <td>3.244</td>\n",
       "      <td>140.290</td>\n",
       "      <td>NaN</td>\n",
       "      <td>NaN</td>\n",
       "      <td>...</td>\n",
       "      <td>167.0</td>\n",
       "      <td>19.0</td>\n",
       "      <td>99.0</td>\n",
       "      <td>19.0</td>\n",
       "      <td>59.0</td>\n",
       "      <td>76.0</td>\n",
       "      <td>496.0</td>\n",
       "      <td>87.0</td>\n",
       "      <td>179.0</td>\n",
       "      <td>41.0</td>\n",
       "    </tr>\n",
       "    <tr>\n",
       "      <th>2011</th>\n",
       "      <td>-0.554</td>\n",
       "      <td>-9.454</td>\n",
       "      <td>-0.290</td>\n",
       "      <td>-5.876</td>\n",
       "      <td>-16.631</td>\n",
       "      <td>-940.524</td>\n",
       "      <td>0.346</td>\n",
       "      <td>15.446</td>\n",
       "      <td>NaN</td>\n",
       "      <td>NaN</td>\n",
       "      <td>...</td>\n",
       "      <td>178.0</td>\n",
       "      <td>20.0</td>\n",
       "      <td>103.0</td>\n",
       "      <td>19.0</td>\n",
       "      <td>66.0</td>\n",
       "      <td>85.0</td>\n",
       "      <td>520.0</td>\n",
       "      <td>80.0</td>\n",
       "      <td>184.0</td>\n",
       "      <td>38.0</td>\n",
       "    </tr>\n",
       "    <tr>\n",
       "      <th>2012</th>\n",
       "      <td>4.088</td>\n",
       "      <td>69.396</td>\n",
       "      <td>2.485</td>\n",
       "      <td>50.140</td>\n",
       "      <td>8.909</td>\n",
       "      <td>420.001</td>\n",
       "      <td>3.493</td>\n",
       "      <td>156.486</td>\n",
       "      <td>NaN</td>\n",
       "      <td>NaN</td>\n",
       "      <td>...</td>\n",
       "      <td>204.0</td>\n",
       "      <td>23.0</td>\n",
       "      <td>106.0</td>\n",
       "      <td>21.0</td>\n",
       "      <td>74.0</td>\n",
       "      <td>93.0</td>\n",
       "      <td>548.0</td>\n",
       "      <td>60.0</td>\n",
       "      <td>196.0</td>\n",
       "      <td>33.0</td>\n",
       "    </tr>\n",
       "    <tr>\n",
       "      <th>2013</th>\n",
       "      <td>0.287</td>\n",
       "      <td>5.079</td>\n",
       "      <td>-4.070</td>\n",
       "      <td>-84.143</td>\n",
       "      <td>-7.393</td>\n",
       "      <td>-379.624</td>\n",
       "      <td>2.664</td>\n",
       "      <td>123.532</td>\n",
       "      <td>NaN</td>\n",
       "      <td>NaN</td>\n",
       "      <td>...</td>\n",
       "      <td>216.0</td>\n",
       "      <td>23.0</td>\n",
       "      <td>109.0</td>\n",
       "      <td>21.0</td>\n",
       "      <td>77.0</td>\n",
       "      <td>95.0</td>\n",
       "      <td>554.0</td>\n",
       "      <td>38.0</td>\n",
       "      <td>206.0</td>\n",
       "      <td>42.0</td>\n",
       "    </tr>\n",
       "    <tr>\n",
       "      <th>2014</th>\n",
       "      <td>3.371</td>\n",
       "      <td>59.729</td>\n",
       "      <td>0.176</td>\n",
       "      <td>3.489</td>\n",
       "      <td>-4.615</td>\n",
       "      <td>-219.428</td>\n",
       "      <td>3.020</td>\n",
       "      <td>143.762</td>\n",
       "      <td>NaN</td>\n",
       "      <td>NaN</td>\n",
       "      <td>...</td>\n",
       "      <td>217.0</td>\n",
       "      <td>24.0</td>\n",
       "      <td>107.0</td>\n",
       "      <td>23.0</td>\n",
       "      <td>81.0</td>\n",
       "      <td>99.0</td>\n",
       "      <td>590.0</td>\n",
       "      <td>33.0</td>\n",
       "      <td>204.0</td>\n",
       "      <td>40.0</td>\n",
       "    </tr>\n",
       "    <tr>\n",
       "      <th>2015</th>\n",
       "      <td>-3.991</td>\n",
       "      <td>-73.097</td>\n",
       "      <td>2.653</td>\n",
       "      <td>52.707</td>\n",
       "      <td>-1.012</td>\n",
       "      <td>-45.882</td>\n",
       "      <td>1.432</td>\n",
       "      <td>70.251</td>\n",
       "      <td>NaN</td>\n",
       "      <td>NaN</td>\n",
       "      <td>...</td>\n",
       "      <td>230.0</td>\n",
       "      <td>24.0</td>\n",
       "      <td>110.0</td>\n",
       "      <td>25.0</td>\n",
       "      <td>85.0</td>\n",
       "      <td>102.0</td>\n",
       "      <td>618.0</td>\n",
       "      <td>32.0</td>\n",
       "      <td>216.0</td>\n",
       "      <td>18.0</td>\n",
       "    </tr>\n",
       "    <tr>\n",
       "      <th>2016</th>\n",
       "      <td>1.235</td>\n",
       "      <td>21.713</td>\n",
       "      <td>0.959</td>\n",
       "      <td>19.564</td>\n",
       "      <td>-5.730</td>\n",
       "      <td>-257.263</td>\n",
       "      <td>2.622</td>\n",
       "      <td>130.431</td>\n",
       "      <td>NaN</td>\n",
       "      <td>NaN</td>\n",
       "      <td>...</td>\n",
       "      <td>252.0</td>\n",
       "      <td>24.0</td>\n",
       "      <td>114.0</td>\n",
       "      <td>26.0</td>\n",
       "      <td>88.0</td>\n",
       "      <td>104.0</td>\n",
       "      <td>619.0</td>\n",
       "      <td>32.0</td>\n",
       "      <td>222.0</td>\n",
       "      <td>12.0</td>\n",
       "    </tr>\n",
       "    <tr>\n",
       "      <th>2017</th>\n",
       "      <td>3.647</td>\n",
       "      <td>64.936</td>\n",
       "      <td>8.873</td>\n",
       "      <td>182.702</td>\n",
       "      <td>5.572</td>\n",
       "      <td>235.821</td>\n",
       "      <td>2.256</td>\n",
       "      <td>115.188</td>\n",
       "      <td>NaN</td>\n",
       "      <td>NaN</td>\n",
       "      <td>...</td>\n",
       "      <td>266.0</td>\n",
       "      <td>25.0</td>\n",
       "      <td>112.0</td>\n",
       "      <td>27.0</td>\n",
       "      <td>87.0</td>\n",
       "      <td>105.0</td>\n",
       "      <td>605.0</td>\n",
       "      <td>37.0</td>\n",
       "      <td>216.0</td>\n",
       "      <td>12.0</td>\n",
       "    </tr>\n",
       "    <tr>\n",
       "      <th>2018</th>\n",
       "      <td>2.823</td>\n",
       "      <td>52.095</td>\n",
       "      <td>5.381</td>\n",
       "      <td>120.640</td>\n",
       "      <td>2.528</td>\n",
       "      <td>112.961</td>\n",
       "      <td>3.196</td>\n",
       "      <td>166.863</td>\n",
       "      <td>NaN</td>\n",
       "      <td>NaN</td>\n",
       "      <td>...</td>\n",
       "      <td>276.0</td>\n",
       "      <td>24.0</td>\n",
       "      <td>113.0</td>\n",
       "      <td>26.0</td>\n",
       "      <td>92.0</td>\n",
       "      <td>104.0</td>\n",
       "      <td>582.0</td>\n",
       "      <td>34.0</td>\n",
       "      <td>195.0</td>\n",
       "      <td>12.0</td>\n",
       "    </tr>\n",
       "    <tr>\n",
       "      <th>2019</th>\n",
       "      <td>-2.561</td>\n",
       "      <td>-48.591</td>\n",
       "      <td>0.715</td>\n",
       "      <td>16.881</td>\n",
       "      <td>1.141</td>\n",
       "      <td>52.284</td>\n",
       "      <td>2.461</td>\n",
       "      <td>132.586</td>\n",
       "      <td>NaN</td>\n",
       "      <td>NaN</td>\n",
       "      <td>...</td>\n",
       "      <td>291.0</td>\n",
       "      <td>24.0</td>\n",
       "      <td>114.0</td>\n",
       "      <td>26.0</td>\n",
       "      <td>92.0</td>\n",
       "      <td>110.0</td>\n",
       "      <td>582.0</td>\n",
       "      <td>33.0</td>\n",
       "      <td>209.0</td>\n",
       "      <td>14.0</td>\n",
       "    </tr>\n",
       "  </tbody>\n",
       "</table>\n",
       "<p>20 rows × 15671 columns</p>\n",
       "</div>"
      ],
      "text/plain": [
       "      coal_prod_change_pct_Africa  coal_prod_change_twh_Africa  \\\n",
       "2000                       -0.087                       -1.320   \n",
       "2001                       -0.248                       -3.761   \n",
       "2002                       -1.673                      -25.333   \n",
       "2003                        7.458                      111.037   \n",
       "2004                        2.181                       34.898   \n",
       "2005                        0.644                       10.535   \n",
       "2006                       -0.683                      -11.236   \n",
       "2007                       -0.040                       -0.653   \n",
       "2008                        1.607                       26.243   \n",
       "2009                       -0.845                      -14.020   \n",
       "2010                        3.721                       61.244   \n",
       "2011                       -0.554                       -9.454   \n",
       "2012                        4.088                       69.396   \n",
       "2013                        0.287                        5.079   \n",
       "2014                        3.371                       59.729   \n",
       "2015                       -3.991                      -73.097   \n",
       "2016                        1.235                       21.713   \n",
       "2017                        3.647                       64.936   \n",
       "2018                        2.823                       52.095   \n",
       "2019                       -2.561                      -48.591   \n",
       "\n",
       "      gas_prod_change_pct_Africa  gas_prod_change_twh_Africa  \\\n",
       "2000                      11.037                     134.287   \n",
       "2001                       3.363                      45.431   \n",
       "2002                       4.557                      63.640   \n",
       "2003                       7.425                     108.417   \n",
       "2004                       4.627                      72.579   \n",
       "2005                       4.239                      69.562   \n",
       "2006                       8.213                     140.492   \n",
       "2007                       5.729                     106.044   \n",
       "2008                       4.160                      81.409   \n",
       "2009                      -5.754                    -117.299   \n",
       "2010                       5.308                     101.976   \n",
       "2011                      -0.290                      -5.876   \n",
       "2012                       2.485                      50.140   \n",
       "2013                      -4.070                     -84.143   \n",
       "2014                       0.176                       3.489   \n",
       "2015                       2.653                      52.707   \n",
       "2016                       0.959                      19.564   \n",
       "2017                       8.873                     182.702   \n",
       "2018                       5.381                     120.640   \n",
       "2019                       0.715                      16.881   \n",
       "\n",
       "      oil_prod_change_pct_Africa  oil_prod_change_twh_Africa  \\\n",
       "2000                       7.284                     292.915   \n",
       "2001                      -1.002                     -43.243   \n",
       "2002                       0.679                      28.986   \n",
       "2003                       8.758                     376.609   \n",
       "2004                      11.272                     527.174   \n",
       "2005                       3.687                     191.895   \n",
       "2006                       2.333                     125.910   \n",
       "2007                       2.087                     115.243   \n",
       "2008                       1.017                      57.322   \n",
       "2009                      -3.797                    -216.218   \n",
       "2010                       3.229                     176.892   \n",
       "2011                     -16.631                    -940.524   \n",
       "2012                       8.909                     420.001   \n",
       "2013                      -7.393                    -379.624   \n",
       "2014                      -4.615                    -219.428   \n",
       "2015                      -1.012                     -45.882   \n",
       "2016                      -5.730                    -257.263   \n",
       "2017                       5.572                     235.821   \n",
       "2018                       2.528                     112.961   \n",
       "2019                       1.141                      52.284   \n",
       "\n",
       "      energy_cons_change_pct_Africa  energy_cons_change_twh_Africa  \\\n",
       "2000                          2.362                         73.659   \n",
       "2001                          3.912                        124.884   \n",
       "2002                          1.111                         36.850   \n",
       "2003                          4.746                        159.197   \n",
       "2004                          7.156                        251.430   \n",
       "2005                          0.687                         25.884   \n",
       "2006                          1.776                         67.341   \n",
       "2007                          3.548                        136.907   \n",
       "2008                          6.366                        254.344   \n",
       "2009                          1.772                         75.293   \n",
       "2010                          3.244                        140.290   \n",
       "2011                          0.346                         15.446   \n",
       "2012                          3.493                        156.486   \n",
       "2013                          2.664                        123.532   \n",
       "2014                          3.020                        143.762   \n",
       "2015                          1.432                         70.251   \n",
       "2016                          2.622                        130.431   \n",
       "2017                          2.256                        115.188   \n",
       "2018                          3.196                        166.863   \n",
       "2019                          2.461                        132.586   \n",
       "\n",
       "      biofuel_share_elec_Africa  biofuel_elec_per_capita_Africa  ...  \\\n",
       "2000                        NaN                             NaN  ...   \n",
       "2001                        NaN                             NaN  ...   \n",
       "2002                        NaN                             NaN  ...   \n",
       "2003                        NaN                             NaN  ...   \n",
       "2004                        NaN                             NaN  ...   \n",
       "2005                        NaN                             NaN  ...   \n",
       "2006                        NaN                             NaN  ...   \n",
       "2007                        NaN                             NaN  ...   \n",
       "2008                        NaN                             NaN  ...   \n",
       "2009                        NaN                             NaN  ...   \n",
       "2010                        NaN                             NaN  ...   \n",
       "2011                        NaN                             NaN  ...   \n",
       "2012                        NaN                             NaN  ...   \n",
       "2013                        NaN                             NaN  ...   \n",
       "2014                        NaN                             NaN  ...   \n",
       "2015                        NaN                             NaN  ...   \n",
       "2016                        NaN                             NaN  ...   \n",
       "2017                        NaN                             NaN  ...   \n",
       "2018                        NaN                             NaN  ...   \n",
       "2019                        NaN                             NaN  ...   \n",
       "\n",
       "      Iraq_ghg  Jordan_ghg  Kuwait_ghg  Lebanon_ghg  Oman_ghg  Qatar_ghg  \\\n",
       "2000     144.0        15.0        66.0         14.0      36.0       37.0   \n",
       "2001     151.0        15.0        69.0         15.0      40.0       37.0   \n",
       "2002     136.0        16.0        70.0         15.0      42.0       40.0   \n",
       "2003     116.0        16.0        75.0         15.0      43.0       44.0   \n",
       "2004     136.0        18.0        80.0         16.0      42.0       47.0   \n",
       "2005     130.0        19.0        89.0         15.0      42.0       49.0   \n",
       "2006     130.0        19.0        92.0         14.0      50.0       55.0   \n",
       "2007     125.0        20.0        89.0         13.0      53.0       61.0   \n",
       "2008     142.0        19.0        95.0         17.0      52.0       65.0   \n",
       "2009     152.0        20.0        95.0         20.0      55.0       67.0   \n",
       "2010     167.0        19.0        99.0         19.0      59.0       76.0   \n",
       "2011     178.0        20.0       103.0         19.0      66.0       85.0   \n",
       "2012     204.0        23.0       106.0         21.0      74.0       93.0   \n",
       "2013     216.0        23.0       109.0         21.0      77.0       95.0   \n",
       "2014     217.0        24.0       107.0         23.0      81.0       99.0   \n",
       "2015     230.0        24.0       110.0         25.0      85.0      102.0   \n",
       "2016     252.0        24.0       114.0         26.0      88.0      104.0   \n",
       "2017     266.0        25.0       112.0         27.0      87.0      105.0   \n",
       "2018     276.0        24.0       113.0         26.0      92.0      104.0   \n",
       "2019     291.0        24.0       114.0         26.0      92.0      110.0   \n",
       "\n",
       "      Saudi Arabia_ghg  Syrian Arab Republic _ghg  United Arab Emirates_ghg  \\\n",
       "2000             301.0                       80.0                     101.0   \n",
       "2001             302.0                       79.0                     114.0   \n",
       "2002             319.0                       80.0                     115.0   \n",
       "2003             339.0                       79.0                     121.0   \n",
       "2004             355.0                       74.0                     128.0   \n",
       "2005             375.0                       83.0                     135.0   \n",
       "2006             395.0                       85.0                     140.0   \n",
       "2007             411.0                       87.0                     149.0   \n",
       "2008             445.0                       88.0                     172.0   \n",
       "2009             454.0                       85.0                     172.0   \n",
       "2010             496.0                       87.0                     179.0   \n",
       "2011             520.0                       80.0                     184.0   \n",
       "2012             548.0                       60.0                     196.0   \n",
       "2013             554.0                       38.0                     206.0   \n",
       "2014             590.0                       33.0                     204.0   \n",
       "2015             618.0                       32.0                     216.0   \n",
       "2016             619.0                       32.0                     222.0   \n",
       "2017             605.0                       37.0                     216.0   \n",
       "2018             582.0                       34.0                     195.0   \n",
       "2019             582.0                       33.0                     209.0   \n",
       "\n",
       "      Yemen_ghg  \n",
       "2000       29.0  \n",
       "2001       30.0  \n",
       "2002       30.0  \n",
       "2003       33.0  \n",
       "2004       33.0  \n",
       "2005       35.0  \n",
       "2006       36.0  \n",
       "2007       37.0  \n",
       "2008       36.0  \n",
       "2009       39.0  \n",
       "2010       41.0  \n",
       "2011       38.0  \n",
       "2012       33.0  \n",
       "2013       42.0  \n",
       "2014       40.0  \n",
       "2015       18.0  \n",
       "2016       12.0  \n",
       "2017       12.0  \n",
       "2018       12.0  \n",
       "2019       14.0  \n",
       "\n",
       "[20 rows x 15671 columns]"
      ]
     },
     "execution_count": 17,
     "metadata": {},
     "output_type": "execute_result"
    }
   ],
   "source": [
    "final"
   ]
  },
  {
   "cell_type": "markdown",
   "metadata": {},
   "source": [
    "<h3>Is the reduction in fossil fuel consumption related to a decrease in fossil fuel production</h3>"
   ]
  },
  {
   "cell_type": "code",
   "execution_count": 1038,
   "metadata": {},
   "outputs": [],
   "source": [
    "c_vs_p = final\n",
    "\n",
    "def graph_C_vs_P(country):\n",
    "    temp = c_vs_p[[f\"gas_production_{country}\", f\"oil_production_{country}\", f\"coal_production_{country}\"]]\n",
    "    temp[f'fossil_production_{country}'] = temp.sum(axis=1)\n",
    "    temp[f'fossil_consumption_{country}'] = c_vs_p[[f\"fossil_fuel_consumption_{country}\"]]\n",
    "    temp.plot(kind=\"scatter\", x=f\"fossil_production_{country}\", y=f'fossil_consumption_{country}')"
   ]
  },
  {
   "cell_type": "code",
   "execution_count": 1107,
   "metadata": {},
   "outputs": [
    {
     "data": {
      "text/plain": [
       "<AxesSubplot:xlabel='fossil_production', ylabel='fossil_fuel_consumption'>"
      ]
     },
     "execution_count": 1107,
     "metadata": {},
     "output_type": "execute_result"
    },
    {
     "data": {
      "image/png": "[encoded data removed]",
      "text/plain": [
       "<Figure size 432x288 with 1 Axes>"
      ]
     },
     "metadata": {
      "needs_background": "light"
     },
     "output_type": "display_data"
    }
   ],
   "source": [
    "#all data\n",
    "temp = append_owid[[f\"gas_production\", f\"oil_production\", f\"coal_production\"]]\n",
    "append_owid[f'fossil_production'] = temp.sum(axis=1)\n",
    "append_owid.plot(kind=\"scatter\", x=\"fossil_production\", y=\"fossil_fuel_consumption\")"
   ]
  },
  {
   "cell_type": "code",
   "execution_count": 1040,
   "metadata": {},
   "outputs": [
    {
     "name": "stderr",
     "output_type": "stream",
     "text": [
      "/Users/adamomarali/opt/anaconda3/envs/tensorflow/lib/python3.7/site-packages/ipykernel_launcher.py:5: SettingWithCopyWarning: \n",
      "A value is trying to be set on a copy of a slice from a DataFrame.\n",
      "Try using .loc[row_indexer,col_indexer] = value instead\n",
      "\n",
      "See the caveats in the documentation: https://pandas.pydata.org/pandas-docs/stable/user_guide/indexing.html#returning-a-view-versus-a-copy\n",
      "  \"\"\"\n",
      "/Users/adamomarali/opt/anaconda3/envs/tensorflow/lib/python3.7/site-packages/ipykernel_launcher.py:6: SettingWithCopyWarning: \n",
      "A value is trying to be set on a copy of a slice from a DataFrame.\n",
      "Try using .loc[row_indexer,col_indexer] = value instead\n",
      "\n",
      "See the caveats in the documentation: https://pandas.pydata.org/pandas-docs/stable/user_guide/indexing.html#returning-a-view-versus-a-copy\n",
      "  \n"
     ]
    },
    {
     "data": {
      "image/png": "[encoded data removed]",
      "text/plain": [
       "<Figure size 432x288 with 1 Axes>"
      ]
     },
     "metadata": {
      "needs_background": "light"
     },
     "output_type": "display_data"
    },
    {
     "data": {
      "image/png": "[encoded data removed]",
      "text/plain": [
       "<Figure size 432x288 with 1 Axes>"
      ]
     },
     "metadata": {
      "needs_background": "light"
     },
     "output_type": "display_data"
    },
    {
     "data": {
      "image/png": "[encoded data removed]",
      "text/plain": [
       "<Figure size 432x288 with 1 Axes>"
      ]
     },
     "metadata": {
      "needs_background": "light"
     },
     "output_type": "display_data"
    }
   ],
   "source": [
    "graph_C_vs_P(\"Canada\")\n",
    "graph_C_vs_P(\"United States\")\n",
    "graph_C_vs_P(\"Germany\")"
   ]
  },
  {
   "cell_type": "markdown",
   "metadata": {},
   "source": [
    "<h3>Is fossil fuel production reduction correlated with clean energy production or consumption</h3>"
   ]
  },
  {
   "cell_type": "code",
   "execution_count": 1109,
   "metadata": {},
   "outputs": [],
   "source": [
    "fossilP_vs_cleanP = final\n",
    "\n",
    "def graphFossilP(country):\n",
    "    temp = fossilP_vs_cleanP[[f\"gas_production_{country}\", f\"oil_production_{country}\", f\"coal_production_{country}\"]]\n",
    "    temp = temp.sum(axis=1)\n",
    "    temp.plot()\n",
    "    return temp\n",
    "\n",
    "def graphFossilP_vs_cleanP(country):\n",
    "    temp = fossilP_vs_cleanP[[f\"gas_production_{country}\", f\"oil_production_{country}\", f\"coal_production_{country}\"]]\n",
    "    temp[f'fossil_production_{country}'] = temp.sum(axis=1)\n",
    "    temp[f'clean_production_{country}'] = fossilP_vs_cleanP[[f\"renewables_electricity_{country}\"]]\n",
    "    temp.plot(kind=\"scatter\", x=f'clean_production_{country}', y=f\"fossil_production_{country}\")\n",
    "    return temp\n",
    "\n",
    "def graphFossilP_vs_cleanC(country):\n",
    "    temp = fossilP_vs_cleanP[[f\"gas_production_{country}\", f\"oil_production_{country}\", f\"coal_production_{country}\"]]\n",
    "    temp[f'fossil_production_{country}'] = temp.sum(axis=1)\n",
    "    temp[f'clean_consumption_{country}'] = fossilP_vs_cleanP[[f\"renewables_consumption_{country}\"]]\n",
    "    temp.plot(kind=\"scatter\", x=f'clean_consumption_{country}', y=f\"fossil_production_{country}\")\n",
    "    return temp\n",
    "\n",
    "#which clean energy helps reduce fossil fuel consumption\n",
    "def graphFossilP_vs_C(energy, country, ending):\n",
    "    if ending:\n",
    "        ending = f\"_{country}\"\n",
    "    else:\n",
    "        ending = \"\"\n",
    "    temp = fossilP_vs_cleanP[[f\"gas_production_{country}\", f\"oil_production_{country}\", f\"coal_production_{country}\"]]\n",
    "    temp[f'fossil_production{ending}'] = temp.sum(axis=1)\n",
    "    temp[f'fossil_production{ending}'] = temp[f'fossil_production{ending}']\n",
    "    temp[f'{energy}_consumption{ending}'] = fossilP_vs_cleanP[[f\"{energy}_consumption_{country}\"]]\n",
    "    temp.plot(kind=\"scatter\", x=f'{energy}_consumption{ending}', y=f\"fossil_production{ending}\")\n",
    "    return temp"
   ]
  },
  {
   "cell_type": "code",
   "execution_count": 1110,
   "metadata": {},
   "outputs": [
    {
     "name": "stderr",
     "output_type": "stream",
     "text": [
      "/Users/adamomarali/opt/anaconda3/envs/tensorflow/lib/python3.7/site-packages/ipykernel_launcher.py:4: SettingWithCopyWarning: \n",
      "A value is trying to be set on a copy of a slice from a DataFrame.\n",
      "Try using .loc[row_indexer,col_indexer] = value instead\n",
      "\n",
      "See the caveats in the documentation: https://pandas.pydata.org/pandas-docs/stable/user_guide/indexing.html#returning-a-view-versus-a-copy\n",
      "  after removing the cwd from sys.path.\n",
      "/Users/adamomarali/opt/anaconda3/envs/tensorflow/lib/python3.7/site-packages/ipykernel_launcher.py:5: SettingWithCopyWarning: \n",
      "A value is trying to be set on a copy of a slice from a DataFrame.\n",
      "Try using .loc[row_indexer,col_indexer] = value instead\n",
      "\n",
      "See the caveats in the documentation: https://pandas.pydata.org/pandas-docs/stable/user_guide/indexing.html#returning-a-view-versus-a-copy\n",
      "  \"\"\"\n"
     ]
    },
    {
     "data": {
      "text/plain": [
       "<AxesSubplot:xlabel='renewables_consumption', ylabel='fossil_production'>"
      ]
     },
     "execution_count": 1110,
     "metadata": {},
     "output_type": "execute_result"
    },
    {
     "data": {
      "image/png": "[encoded data removed]",
      "text/plain": [
       "<Figure size 432x288 with 1 Axes>"
      ]
     },
     "metadata": {
      "needs_background": "light"
     },
     "output_type": "display_data"
    }
   ],
   "source": [
    "#all data\n",
    "energy = \"renewables\"\n",
    "temp = append_owid[[f\"{energy}_consumption\"]]\n",
    "temp[\"fossil_production\"] = append_owid[\"fossil_production\"]\n",
    "temp[\"fossil_consumption\"] = append_owid[\"fossil_fuel_consumption\"]\n",
    "temp.plot(kind=\"scatter\", x=f\"{energy}_consumption\", y=\"fossil_production\")"
   ]
  },
  {
   "cell_type": "code",
   "execution_count": 940,
   "metadata": {},
   "outputs": [
    {
     "name": "stderr",
     "output_type": "stream",
     "text": [
      "/Users/adamomarali/opt/anaconda3/envs/tensorflow/lib/python3.7/site-packages/ipykernel_launcher.py:30: SettingWithCopyWarning: \n",
      "A value is trying to be set on a copy of a slice from a DataFrame.\n",
      "Try using .loc[row_indexer,col_indexer] = value instead\n",
      "\n",
      "See the caveats in the documentation: https://pandas.pydata.org/pandas-docs/stable/user_guide/indexing.html#returning-a-view-versus-a-copy\n",
      "/Users/adamomarali/opt/anaconda3/envs/tensorflow/lib/python3.7/site-packages/ipykernel_launcher.py:31: SettingWithCopyWarning: \n",
      "A value is trying to be set on a copy of a slice from a DataFrame.\n",
      "Try using .loc[row_indexer,col_indexer] = value instead\n",
      "\n",
      "See the caveats in the documentation: https://pandas.pydata.org/pandas-docs/stable/user_guide/indexing.html#returning-a-view-versus-a-copy\n",
      "/Users/adamomarali/opt/anaconda3/envs/tensorflow/lib/python3.7/site-packages/ipykernel_launcher.py:32: SettingWithCopyWarning: \n",
      "A value is trying to be set on a copy of a slice from a DataFrame.\n",
      "Try using .loc[row_indexer,col_indexer] = value instead\n",
      "\n",
      "See the caveats in the documentation: https://pandas.pydata.org/pandas-docs/stable/user_guide/indexing.html#returning-a-view-versus-a-copy\n"
     ]
    },
    {
     "data": {
      "image/png": "[encoded data removed]",
      "text/plain": [
       "<Figure size 432x288 with 1 Axes>"
      ]
     },
     "metadata": {
      "needs_background": "light"
     },
     "output_type": "display_data"
    }
   ],
   "source": [
    "# graphFossilP_vs_cleanC(\"Canada\")\n",
    "# graphFossilP_vs_cleanC(\"United States\")\n",
    "# graphFossilP_vs_cleanC(\"China\")\n",
    "x = graphFossilP_vs_C(\"nuclear\", \"France\", False)"
   ]
  },
  {
   "cell_type": "code",
   "execution_count": 869,
   "metadata": {},
   "outputs": [
    {
     "name": "stderr",
     "output_type": "stream",
     "text": [
      "/Users/adamomarali/opt/anaconda3/envs/tensorflow/lib/python3.7/site-packages/ipykernel_launcher.py:10: SettingWithCopyWarning: \n",
      "A value is trying to be set on a copy of a slice from a DataFrame.\n",
      "Try using .loc[row_indexer,col_indexer] = value instead\n",
      "\n",
      "See the caveats in the documentation: https://pandas.pydata.org/pandas-docs/stable/user_guide/indexing.html#returning-a-view-versus-a-copy\n",
      "  # Remove the CWD from sys.path while we load stuff.\n",
      "/Users/adamomarali/opt/anaconda3/envs/tensorflow/lib/python3.7/site-packages/ipykernel_launcher.py:11: SettingWithCopyWarning: \n",
      "A value is trying to be set on a copy of a slice from a DataFrame.\n",
      "Try using .loc[row_indexer,col_indexer] = value instead\n",
      "\n",
      "See the caveats in the documentation: https://pandas.pydata.org/pandas-docs/stable/user_guide/indexing.html#returning-a-view-versus-a-copy\n",
      "  # This is added back by InteractiveShellApp.init_path()\n"
     ]
    },
    {
     "data": {
      "image/png": "[encoded data removed]",
      "text/plain": [
       "<Figure size 432x288 with 1 Axes>"
      ]
     },
     "metadata": {
      "needs_background": "light"
     },
     "output_type": "display_data"
    },
    {
     "data": {
      "image/png": "[encoded data removed]",
      "text/plain": [
       "<Figure size 432x288 with 1 Axes>"
      ]
     },
     "metadata": {
      "needs_background": "light"
     },
     "output_type": "display_data"
    },
    {
     "data": {
      "image/png": "[encoded data removed]",
      "text/plain": [
       "<Figure size 432x288 with 1 Axes>"
      ]
     },
     "metadata": {
      "needs_background": "light"
     },
     "output_type": "display_data"
    }
   ],
   "source": [
    "graphFossilP_vs_cleanP(\"Canada\")\n",
    "graphFossilP_vs_cleanP(\"United States\")\n",
    "graphFossilP_vs_cleanP(\"China\")"
   ]
  },
  {
   "cell_type": "markdown",
   "metadata": {},
   "source": [
    "<h3>Is clean energy production or consumption correlated with investment into R&D</h3>"
   ]
  },
  {
   "cell_type": "code",
   "execution_count": 1152,
   "metadata": {},
   "outputs": [
    {
     "data": {
      "text/plain": [
       "<AxesSubplot:xlabel='rd', ylabel='renewables_electricity'>"
      ]
     },
     "execution_count": 1152,
     "metadata": {},
     "output_type": "execute_result"
    },
    {
     "data": {
      "image/png": "[encoded data removed]",
      "text/plain": [
       "<Figure size 432x288 with 1 Axes>"
      ]
     },
     "metadata": {
      "needs_background": "light"
     },
     "output_type": "display_data"
    }
   ],
   "source": [
    "temp = append_owid\n",
    "temp = temp.dropna(subset=['rd'])\n",
    "temp = temp[temp.rd != 0]\n",
    "temp.plot(kind=\"scatter\", x=\"rd\", y=\"renewables_electricity\")"
   ]
  },
  {
   "cell_type": "markdown",
   "metadata": {},
   "source": [
    "<h3>Production to Consumption Ratio</h3>"
   ]
  },
  {
   "cell_type": "code",
   "execution_count": 52,
   "metadata": {},
   "outputs": [],
   "source": [
    "ratio = final\n",
    "\n",
    "non_clean_energy = [\"coal\", \"oil\", \"gas\", \"fossil\"]\n",
    "def p_vs_c_ratio(energy, country):\n",
    "    if(energy in non_clean_energy):\n",
    "        if(energy == \"fossil\"):\n",
    "            temp = ratio[[f\"gas_production_{country}\", f\"oil_production_{country}\", f\"coal_production_{country}\"]]\n",
    "            temp[f'fossil_production_{country}'] = temp.sum(axis=1)\n",
    "            temp[f'{energy}_consumption_{country}'] = ratio[[f\"fossil_fuel_consumption_{country}\"]]\n",
    "            temp.plot(kind=\"scatter\", x=f\"fossil_production_{country}\", y=f'{energy}_consumption_{country}')\n",
    "        else:\n",
    "            temp = ratio[[f\"{energy}_consumption_{country}\", f\"{energy}_production_{country}\"]]\n",
    "            temp.plot(kind=\"scatter\", x=f\"{energy}_production_{country}\", y=f'{energy}_consumption_{country}')\n",
    "    else:\n",
    "        temp = ratio[[f\"{energy}_consumption_{country}\", f\"{energy}_electricity_{country}\"]]\n",
    "        temp.plot(kind=\"scatter\", x=f\"{energy}_electricity_{country}\", y=f'{energy}_consumption_{country}')\n",
    "\n"
   ]
  },
  {
   "cell_type": "code",
   "execution_count": 53,
   "metadata": {},
   "outputs": [
    {
     "name": "stdout",
     "output_type": "stream",
     "text": [
      "      solar_electricity_Canada\n",
      "2000                     0.016\n",
      "2001                     0.019\n",
      "2002                     0.022\n",
      "2003                     0.023\n",
      "2004                     0.013\n",
      "2005                     0.017\n",
      "2006                     0.021\n",
      "2007                     0.026\n",
      "2008                     0.035\n",
      "2009                     0.103\n",
      "2010                     0.253\n",
      "2011                     0.566\n",
      "2012                     0.872\n",
      "2013                     1.484\n",
      "2014                     2.099\n",
      "2015                     2.866\n",
      "2016                     3.992\n",
      "2017                     3.538\n",
      "2018                     3.759\n",
      "2019                     4.272\n"
     ]
    },
    {
     "data": {
      "image/png": "[encoded data removed]",
      "text/plain": [
       "<Figure size 432x288 with 1 Axes>"
      ]
     },
     "metadata": {
      "needs_background": "light"
     },
     "output_type": "display_data"
    }
   ],
   "source": [
    "p_vs_c_ratio(\"solar\", \"Canada\")"
   ]
  },
  {
   "cell_type": "markdown",
   "metadata": {},
   "source": [
    "<h3>What renewable energy reduces fossil fuel production the most</h3>"
   ]
  },
  {
   "cell_type": "code",
   "execution_count": 44,
   "metadata": {},
   "outputs": [
    {
     "name": "stdout",
     "output_type": "stream",
     "text": [
      "      gas_production_Canada  oil_production_Canada  coal_production_Canada  \\\n",
      "2000               1763.048               1538.491                 454.525   \n",
      "2001               1794.194               1544.289                 462.902   \n",
      "2002               1807.227               1617.309                 398.458   \n",
      "2003               1760.471               1705.763                 369.971   \n",
      "2004               1767.353               1757.163                 394.374   \n",
      "2005               1791.526               1726.715                 410.788   \n",
      "2006               1793.975               1825.039                 404.736   \n",
      "2007               1746.793               1875.561                 415.148   \n",
      "2008               1664.917               1843.469                 413.931   \n",
      "2009               1550.509               1839.380                 385.477   \n",
      "2010               1495.912               1924.492                 412.009   \n",
      "2011               1510.714               2033.466                 412.451   \n",
      "2012               1503.053               2180.947                 413.214   \n",
      "2013               1519.205               2329.653                 420.306   \n",
      "2014               1589.917               2505.998                 417.629   \n",
      "2015               1607.558               2596.547                 376.323   \n",
      "2016               1718.044               2632.635                 380.604   \n",
      "2017               1756.017               2854.276                 367.288   \n",
      "2018               1790.318               3114.993                 326.433   \n",
      "2019               1731.044               3191.336                 309.699   \n",
      "\n",
      "      fossil_production_Canada  \n",
      "2000                  3756.064  \n",
      "2001                  3801.385  \n",
      "2002                  3822.994  \n",
      "2003                  3836.205  \n",
      "2004                  3918.890  \n",
      "2005                  3929.029  \n",
      "2006                  4023.750  \n",
      "2007                  4037.502  \n",
      "2008                  3922.317  \n",
      "2009                  3775.366  \n",
      "2010                  3832.413  \n",
      "2011                  3956.631  \n",
      "2012                  4097.214  \n",
      "2013                  4269.164  \n",
      "2014                  4513.544  \n",
      "2015                  4580.428  \n",
      "2016                  4731.283  \n",
      "2017                  4977.581  \n",
      "2018                  5231.744  \n",
      "2019                  5232.079  \n"
     ]
    }
   ],
   "source": [
    "file = final\n",
    "\n",
    "def intensityC_vs_fossilP(energy, country):\n",
    "    #fossil fuel production\n",
    "    temp = file[[f\"gas_production_{country}\", f\"oil_production_{country}\", f\"coal_production_{country}\"]]\n",
    "    temp[f'fossil_production_{country}'] = temp.sum(axis=1)\n",
    "\n",
    "    #energy intensity\n",
    "    print(temp)\n",
    "\n",
    "\n",
    "intensityC_vs_fossilP(\"wind\", \"Canada\")"
   ]
  },
  {
   "cell_type": "code",
   "execution_count": 10,
   "metadata": {},
   "outputs": [
    {
     "data": {
      "text/plain": [
       "array(['coal_prod_change_pct_Africa', 'coal_prod_change_twh_Africa',\n",
       "       'gas_prod_change_pct_Africa', ..., 'Syrian Arab Republic _ghg',\n",
       "       'United Arab Emirates_ghg', 'Yemen_ghg'], dtype=object)"
      ]
     },
     "execution_count": 10,
     "metadata": {},
     "output_type": "execute_result"
    }
   ],
   "source": [
    "final.columns.values"
   ]
  },
  {
   "cell_type": "markdown",
   "metadata": {},
   "source": [
    "<h3>Does a reduction in fossil fuels consumption correlate to a reduction in GHG</h3>"
   ]
  },
  {
   "cell_type": "code",
   "execution_count": null,
   "metadata": {},
   "outputs": [],
   "source": [
    "fossil_vs_co2 = final\n",
    "\n",
    "def calc_fossil_vs_ghg(country):\n",
    "    temp = fossil_vs_co2[[f\"gas_production_{country}\", f\"oil_production_{country}\", f\"coal_production_{country}\"]]\n",
    "    temp[f'fossil_production_{country}'] = temp.sum(axis=1)\n",
    "    temp[f'co2_{country}'] = fossil_vs_co2[[f\"co2_{country}\"]]\n",
    "    nancount = 0\n",
    "    for i in range(temp.shape[1]):\n",
    "        if(temp.iat[i, 3] == 0 or temp.iat[i, 4]==0):\n",
    "            nancount += 1\n",
    "            \n",
    "    if nancount >= 4:\n",
    "        return;\n",
    "    temp.plot(kind=\"scatter\", x=f\"fossil_production_{country}\", y=f'co2_{country}')\n",
    "    "
   ]
  },
  {
   "cell_type": "code",
   "execution_count": 16,
   "metadata": {},
   "outputs": [],
   "source": [
    "clone = final\n",
    "avail = []\n",
    "owidSet = {\"Afghanistan\"}\n",
    "ghgSet = {\"Afghanistan\"}\n",
    "owid2 = pd.read_csv(\"Macro/owid-energy-data.csv\")\n",
    "\n",
    "def owidList():\n",
    "    for i in range(owid2.shape[0]):\n",
    "        owidSet.add(owid2.iat[i, 1])\n",
    "\n",
    "        \n",
    "def ghgList():\n",
    "    toRemove = []\n",
    "    for c in owidSet:\n",
    "        try:\n",
    "            subset = final[f\"{c}_ghg\"]\n",
    "        except KeyError:\n",
    "            toRemove.append(c)\n",
    "            \n",
    "    \n",
    "    for c in owidSet:\n",
    "        if c not in toRemove:\n",
    "            avail.append(c)\n",
    "    \n",
    "    avail.sort()\n",
    "\n"
   ]
  },
  {
   "cell_type": "code",
   "execution_count": 17,
   "metadata": {},
   "outputs": [
    {
     "name": "stdout",
     "output_type": "stream",
     "text": [
      "['Africa', 'Albania', 'Algeria', 'Angola', 'Argentina', 'Armenia', 'Australia', 'Austria', 'Azerbaijan', 'Bahrain', 'Bangladesh', 'Belarus', 'Belgium', 'Benin', 'Bolivia', 'Bosnia and Herzegovina', 'Botswana', 'Brazil', 'Bulgaria', 'Cambodia', 'Cameroon', 'Canada', 'Chile', 'Colombia', 'Congo', 'Costa Rica', 'Croatia', 'Cuba', 'Cyprus', 'Denmark', 'Dominican Republic', 'Ecuador', 'Egypt', 'El Salvador', 'Equatorial Guinea', 'Eritrea', 'Estonia', 'Ethiopia', 'Finland', 'France', 'Gabon', 'Georgia', 'Germany', 'Ghana', 'Gibraltar', 'Greece', 'Guatemala', 'Guyana', 'Haiti', 'Honduras', 'Hungary', 'Iceland', 'India', 'Indonesia', 'Iraq', 'Ireland', 'Israel', 'Italy', 'Jamaica', 'Japan', 'Jordan', 'Kazakhstan', 'Kenya', 'Kosovo', 'Kuwait', 'Kyrgyzstan', 'Latvia', 'Lebanon', 'Libya', 'Lithuania', 'Luxembourg', 'Malaysia', 'Malta', 'Mauritius', 'Mexico', 'Mongolia', 'Montenegro', 'Morocco', 'Mozambique', 'Myanmar', 'Namibia', 'Nepal', 'Netherlands', 'New Zealand', 'Nicaragua', 'Niger', 'Nigeria', 'Norway', 'Oman', 'Pakistan', 'Panama', 'Paraguay', 'Peru', 'Philippines', 'Poland', 'Portugal', 'Qatar', 'Romania', 'Saudi Arabia', 'Senegal', 'Serbia', 'Singapore', 'Slovenia', 'South Africa', 'South Sudan', 'Spain', 'Sri Lanka', 'Sudan', 'Suriname', 'Sweden', 'Switzerland', 'Tajikistan', 'Thailand', 'Togo', 'Trinidad and Tobago', 'Tunisia', 'Turkey', 'Turkmenistan', 'Ukraine', 'United Arab Emirates', 'United Kingdom', 'United States', 'Uruguay', 'Uzbekistan', 'Venezuela', 'World', 'Yemen', 'Zambia', 'Zimbabwe']\n"
     ]
    }
   ],
   "source": [
    "owidList()\n",
    "ghgList()\n",
    "print(avail)"
   ]
  },
  {
   "cell_type": "code",
   "execution_count": 6,
   "metadata": {
    "scrolled": false
   },
   "outputs": [],
   "source": [
    "import warnings\n",
    "warnings.filterwarnings('ignore')\n",
    "\n",
    "# for country in avail:\n",
    "#     calc_fossil_vs_ghg(country)"
   ]
  },
  {
   "cell_type": "markdown",
   "metadata": {},
   "source": [
    "### Energy Efficiency vs CO2 Emission"
   ]
  },
  {
   "cell_type": "code",
   "execution_count": 71,
   "metadata": {},
   "outputs": [],
   "source": [
    "efficiency = final\n",
    "\n",
    "def efficiencyVSco2(energy,country):\n",
    "\n",
    "    temp = efficiency[[f\"{energy}_electricity_{country}\", f\"{energy}_consumption_{country}\", f\"co2_{country}\"]]\n",
    "#     efficiency[f'fossil_production_{country}'] = temp.sum(axis=1)\n",
    "    temp[f'{energy}_efficiency_{country}'] = temp[f'{energy}_electricity_{country}'] / temp[f'{energy}_consumption_{country}']\n",
    "    temp.plot(kind=\"scatter\", x = f\"{energy}_efficiency_{country}\", y = f\"co2_{country}\")\n"
   ]
  },
  {
   "cell_type": "code",
   "execution_count": 77,
   "metadata": {},
   "outputs": [
    {
     "data": {
      "image/png": "[encoded data removed]",
      "text/plain": [
       "<Figure size 432x288 with 1 Axes>"
      ]
     },
     "metadata": {
      "needs_background": "light"
     },
     "output_type": "display_data"
    }
   ],
   "source": [
    "efficiencyVSco2(\"renewables\", \"Germany\")"
   ]
  },
  {
   "cell_type": "code",
   "execution_count": null,
   "metadata": {},
   "outputs": [],
   "source": []
  }
 ],
 "metadata": {
  "interpreter": {
   "hash": "02213786bd1b12f6b0871ef1f7df5c2475fc7500030e37ae8bb94d84bdf034f3"
  },
  "kernelspec": {
   "display_name": "Python 3 (ipykernel)",
   "language": "python",
   "name": "python3"
  },
  "language_info": {
   "codemirror_mode": {
    "name": "ipython",
    "version": 3
   },
   "file_extension": ".py",
   "mimetype": "text/x-python",
   "name": "python",
   "nbconvert_exporter": "python",
   "pygments_lexer": "ipython3",
   "version": "3.9.7"
  }
 },
 "nbformat": 4,
 "nbformat_minor": 2
}
